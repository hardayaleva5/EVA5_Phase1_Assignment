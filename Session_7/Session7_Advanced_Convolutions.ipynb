{
  "nbformat": 4,
  "nbformat_minor": 0,
  "metadata": {
    "colab": {
      "name": "Session7_Advanced_Convolutions.ipynb",
      "provenance": [],
      "collapsed_sections": []
    },
    "kernelspec": {
      "name": "python3",
      "display_name": "Python 3"
    },
    "accelerator": "GPU"
  },
  "cells": [
    {
      "cell_type": "code",
      "metadata": {
        "id": "GzNV8ntW6c2Z",
        "colab_type": "code",
        "colab": {
          "base_uri": "https://localhost:8080/",
          "height": 34
        },
        "outputId": "6ce5b61f-ce68-471a-a467-16e34da48787"
      },
      "source": [
        "!ls"
      ],
      "execution_count": 8,
      "outputs": [
        {
          "output_type": "stream",
          "text": [
            "drive  model_architecture.py  sample_data  train_test.py\n"
          ],
          "name": "stdout"
        }
      ]
    },
    {
      "cell_type": "code",
      "metadata": {
        "id": "HuWkusKDoC_d",
        "colab_type": "code",
        "colab": {}
      },
      "source": [
        "import torch\n",
        "import torchvision\n",
        "import torchvision.transforms as transforms"
      ],
      "execution_count": 9,
      "outputs": []
    },
    {
      "cell_type": "code",
      "metadata": {
        "id": "vJnwxs6yrx1E",
        "colab_type": "code",
        "colab": {}
      },
      "source": [
        "from model_architecture import *\n",
        "from train_test import *\n",
        "\n",
        "use_cuda = torch.cuda.is_available()\n",
        "device = torch.device(\"cuda\" if use_cuda else \"cpu\")\n",
        "batch_size = 256\n",
        "num_workers = 1\n",
        "pin_memory = True\n",
        "input_size = (3,32,32)"
      ],
      "execution_count": 11,
      "outputs": []
    },
    {
      "cell_type": "code",
      "metadata": {
        "id": "Me2DkiMRoKqV",
        "colab_type": "code",
        "colab": {
          "base_uri": "https://localhost:8080/",
          "height": 34
        },
        "outputId": "f0233f85-5bf1-4058-b220-26e9bd8a238a"
      },
      "source": [
        "from __future__ import print_function\n",
        "import torch\n",
        "from torchvision import datasets, transforms\n",
        "import sys\n",
        "\n",
        "torch.manual_seed(1)\n",
        "#kwargs = {'num_workers': config.num_workers, 'pin_memory': config.pin_memory} if config.use_cuda else {}\n",
        "kwargs = {'num_workers': num_workers, 'pin_memory': pin_memory} if use_cuda else {}\n",
        "train_loader = torch.utils.data.DataLoader(\n",
        "    datasets.CIFAR10('../data', train=True, download=True,\n",
        "                   transform=transforms.Compose([\n",
        "                       transforms.RandomCrop(32, padding=4),\n",
        "                       transforms.RandomHorizontalFlip(),\n",
        "                       transforms.RandomRotation((-8.0, 8.0)),                                                 \n",
        "                       #transforms.RandomRotation((-8.0, 8.0), fill=(1,)),\n",
        "                       transforms.ToTensor(),\n",
        "                       transforms.Normalize((0.4914, 0.4822, 0.4465), (0.2023, 0.1994, 0.2010))\n",
        "                   ])),\n",
        "    #batch_size=config.batch_size, shuffle=True, **kwargs)\n",
        "    batch_size=batch_size, shuffle=True, **kwargs)\n",
        "test_loader = torch.utils.data.DataLoader(\n",
        "    datasets.CIFAR10('../data', train=False, transform=transforms.Compose([\n",
        "        transforms.ToTensor(),\n",
        "        transforms.Normalize((0.4914, 0.4822, 0.4465), (0.2023, 0.1994, 0.2010))\n",
        "    ])),\n",
        "    #batch_size=config.batch_size, shuffle=True, **kwargs)\n",
        "    batch_size=batch_size, shuffle=True, **kwargs)\n",
        "\n",
        "classes = ('plane', 'car', 'bird', 'cat',\n",
        "           'deer', 'dog', 'frog', 'horse', 'ship', 'truck')\n"
      ],
      "execution_count": 13,
      "outputs": [
        {
          "output_type": "stream",
          "text": [
            "Files already downloaded and verified\n"
          ],
          "name": "stdout"
        }
      ]
    },
    {
      "cell_type": "code",
      "metadata": {
        "id": "r6fYeJKYsWmj",
        "colab_type": "code",
        "colab": {
          "base_uri": "https://localhost:8080/",
          "height": 1000
        },
        "outputId": "c9115a9a-c587-490c-f500-8575bf09316d"
      },
      "source": [
        "from __future__ import print_function\n",
        "import torch.optim as optim\n",
        "from torch.optim.lr_scheduler import StepLR\n",
        "import sys\n",
        "\n",
        "\n",
        "print(model_summary(Net(1), input_size))\n",
        "\n",
        "accu = []\n",
        "loss_test = []\n",
        "\n",
        "\n",
        "model_ = Net(BN_flag=1).to(device)\n",
        "optimizer = optim.SGD(model_.parameters(), lr=0.016, momentum=0.9)\n",
        "scheduler = StepLR(optimizer, step_size=2, gamma=0.92)\n",
        "\n",
        "valid_acc = []\n",
        "loss_test_ = []\n",
        "l1_regularization = [0, 0]\n",
        "for epoch in range(1, 26):\n",
        "    train(model_, device, train_loader, optimizer, epoch, l1_regularization)\n",
        "    scheduler.step()\n",
        "    valid_a, valid_l = test(model_, device, test_loader)\n",
        "    # Appending to loss and accuracy lists\n",
        "    valid_acc.append(valid_a)\n",
        "    loss_test_.append(valid_l)\n",
        "\n",
        "accu.append(valid_acc)\n",
        "loss_test.append(loss_test_)\n",
        "\n",
        "import pickle\n",
        "with open(\"Model_Params.pickle\",\"wb\") as f:\n",
        "    pickle.dump(accu, f)\n",
        "    pickle.dump(loss_test, f)"
      ],
      "execution_count": 14,
      "outputs": [
        {
          "output_type": "stream",
          "text": [
            "/content/model_architecture.py:181: UserWarning: Implicit dimension choice for log_softmax has been deprecated. Change the call to include dim=X as an argument.\n",
            "  return F.log_softmax(x)\n",
            "\r  0%|          | 0/196 [00:00<?, ?it/s]"
          ],
          "name": "stderr"
        },
        {
          "output_type": "stream",
          "text": [
            "----------------------------------------------------------------\n",
            "        Layer (type)               Output Shape         Param #\n",
            "================================================================\n",
            "            Conv2d-1           [-1, 32, 32, 32]             896\n",
            "    GhostBatchNorm-2           [-1, 32, 32, 32]              64\n",
            "            Conv2d-3           [-1, 32, 32, 32]           9,248\n",
            "    GhostBatchNorm-4           [-1, 32, 32, 32]              64\n",
            "           Dropout-5           [-1, 32, 32, 32]               0\n",
            "         MaxPool2d-6           [-1, 32, 16, 16]               0\n",
            "            Conv2d-7           [-1, 16, 18, 18]             528\n",
            "    GhostBatchNorm-8           [-1, 16, 18, 18]              32\n",
            "           Dropout-9           [-1, 16, 18, 18]               0\n",
            "           Conv2d-10           [-1, 64, 18, 20]           3,136\n",
            "   GhostBatchNorm-11           [-1, 64, 18, 20]             128\n",
            "          Dropout-12           [-1, 64, 18, 20]               0\n",
            "           Conv2d-13           [-1, 64, 20, 20]          12,352\n",
            "   GhostBatchNorm-14           [-1, 64, 20, 20]             128\n",
            "          Dropout-15           [-1, 64, 20, 20]               0\n",
            "        MaxPool2d-16           [-1, 64, 10, 10]               0\n",
            "           Conv2d-17           [-1, 32, 12, 12]           2,080\n",
            "   GhostBatchNorm-18           [-1, 32, 12, 12]              64\n",
            "          Dropout-19           [-1, 32, 12, 12]               0\n",
            "           Conv2d-20          [-1, 128, 12, 12]          36,992\n",
            "   GhostBatchNorm-21          [-1, 128, 12, 12]             256\n",
            "          Dropout-22          [-1, 128, 12, 12]               0\n",
            "           Conv2d-23          [-1, 128, 10, 10]         147,584\n",
            "   GhostBatchNorm-24          [-1, 128, 10, 10]             256\n",
            "          Dropout-25          [-1, 128, 10, 10]               0\n",
            "        MaxPool2d-26            [-1, 128, 5, 5]               0\n",
            "           Conv2d-27            [-1, 256, 5, 5]         295,168\n",
            "           Conv2d-28             [-1, 64, 5, 5]         147,520\n",
            "        AvgPool2d-29             [-1, 64, 1, 1]               0\n",
            "           Conv2d-30             [-1, 10, 1, 1]             650\n",
            "================================================================\n",
            "Total params: 657,146\n",
            "Trainable params: 656,154\n",
            "Non-trainable params: 992\n",
            "----------------------------------------------------------------\n",
            "Input size (MB): 0.01\n",
            "Forward/backward pass size (MB): 3.50\n",
            "Params size (MB): 2.51\n",
            "Estimated Total Size (MB): 6.02\n",
            "----------------------------------------------------------------\n",
            "None\n"
          ],
          "name": "stdout"
        },
        {
          "output_type": "stream",
          "text": [
            "                                                                                       "
          ],
          "name": "stderr"
        },
        {
          "output_type": "stream",
          "text": [
            "Epoch: 1,LR: 0.016.\n",
            "Train set: train Average loss: 1.4402, train_Accuracy: 16977/50000 (33.9540%)\n",
            "\n"
          ],
          "name": "stdout"
        },
        {
          "output_type": "stream",
          "text": [
            "  0%|          | 0/196 [00:00<?, ?it/s]"
          ],
          "name": "stderr"
        },
        {
          "output_type": "stream",
          "text": [
            "\n",
            "Test set: Average loss: 1.4235, Accuracy: 4741/10000 (47.4100%)\n",
            "\n"
          ],
          "name": "stdout"
        },
        {
          "output_type": "stream",
          "text": [
            "                                                                                       "
          ],
          "name": "stderr"
        },
        {
          "output_type": "stream",
          "text": [
            "Epoch: 2,LR: 0.016.\n",
            "Train set: train Average loss: 1.0737, train_Accuracy: 26144/50000 (52.2880%)\n",
            "\n"
          ],
          "name": "stdout"
        },
        {
          "output_type": "stream",
          "text": [
            "  0%|          | 0/196 [00:00<?, ?it/s]"
          ],
          "name": "stderr"
        },
        {
          "output_type": "stream",
          "text": [
            "\n",
            "Test set: Average loss: 1.3695, Accuracy: 5128/10000 (51.2800%)\n",
            "\n"
          ],
          "name": "stdout"
        },
        {
          "output_type": "stream",
          "text": [
            "                                                                                       "
          ],
          "name": "stderr"
        },
        {
          "output_type": "stream",
          "text": [
            "Epoch: 3,LR: 0.01472.\n",
            "Train set: train Average loss: 1.0551, train_Accuracy: 29650/50000 (59.3000%)\n",
            "\n"
          ],
          "name": "stdout"
        },
        {
          "output_type": "stream",
          "text": [
            "  0%|          | 0/196 [00:00<?, ?it/s]"
          ],
          "name": "stderr"
        },
        {
          "output_type": "stream",
          "text": [
            "\n",
            "Test set: Average loss: 1.1978, Accuracy: 5752/10000 (57.5200%)\n",
            "\n"
          ],
          "name": "stdout"
        },
        {
          "output_type": "stream",
          "text": [
            "                                                                                       "
          ],
          "name": "stderr"
        },
        {
          "output_type": "stream",
          "text": [
            "Epoch: 4,LR: 0.01472.\n",
            "Train set: train Average loss: 0.8369, train_Accuracy: 31609/50000 (63.2180%)\n",
            "\n"
          ],
          "name": "stdout"
        },
        {
          "output_type": "stream",
          "text": [
            "  0%|          | 0/196 [00:00<?, ?it/s]"
          ],
          "name": "stderr"
        },
        {
          "output_type": "stream",
          "text": [
            "\n",
            "Test set: Average loss: 0.9865, Accuracy: 6530/10000 (65.3000%)\n",
            "\n"
          ],
          "name": "stdout"
        },
        {
          "output_type": "stream",
          "text": [
            "                                                                                       "
          ],
          "name": "stderr"
        },
        {
          "output_type": "stream",
          "text": [
            "Epoch: 5,LR: 0.013542400000000001.\n",
            "Train set: train Average loss: 0.7747, train_Accuracy: 33210/50000 (66.4200%)\n",
            "\n"
          ],
          "name": "stdout"
        },
        {
          "output_type": "stream",
          "text": [
            "  0%|          | 0/196 [00:00<?, ?it/s]"
          ],
          "name": "stderr"
        },
        {
          "output_type": "stream",
          "text": [
            "\n",
            "Test set: Average loss: 0.9881, Accuracy: 6631/10000 (66.3100%)\n",
            "\n"
          ],
          "name": "stdout"
        },
        {
          "output_type": "stream",
          "text": [
            "                                                                                       "
          ],
          "name": "stderr"
        },
        {
          "output_type": "stream",
          "text": [
            "Epoch: 6,LR: 0.013542400000000001.\n",
            "Train set: train Average loss: 1.0210, train_Accuracy: 34185/50000 (68.3700%)\n",
            "\n"
          ],
          "name": "stdout"
        },
        {
          "output_type": "stream",
          "text": [
            "  0%|          | 0/196 [00:00<?, ?it/s]"
          ],
          "name": "stderr"
        },
        {
          "output_type": "stream",
          "text": [
            "\n",
            "Test set: Average loss: 0.8495, Accuracy: 7007/10000 (70.0700%)\n",
            "\n"
          ],
          "name": "stdout"
        },
        {
          "output_type": "stream",
          "text": [
            "                                                                                       "
          ],
          "name": "stderr"
        },
        {
          "output_type": "stream",
          "text": [
            "Epoch: 7,LR: 0.012459008000000002.\n",
            "Train set: train Average loss: 0.9185, train_Accuracy: 35312/50000 (70.6240%)\n",
            "\n"
          ],
          "name": "stdout"
        },
        {
          "output_type": "stream",
          "text": [
            "  0%|          | 0/196 [00:00<?, ?it/s]"
          ],
          "name": "stderr"
        },
        {
          "output_type": "stream",
          "text": [
            "\n",
            "Test set: Average loss: 0.7409, Accuracy: 7385/10000 (73.8500%)\n",
            "\n"
          ],
          "name": "stdout"
        },
        {
          "output_type": "stream",
          "text": [
            "                                                                                       "
          ],
          "name": "stderr"
        },
        {
          "output_type": "stream",
          "text": [
            "Epoch: 8,LR: 0.012459008000000002.\n",
            "Train set: train Average loss: 0.7857, train_Accuracy: 36172/50000 (72.3440%)\n",
            "\n"
          ],
          "name": "stdout"
        },
        {
          "output_type": "stream",
          "text": [
            "  0%|          | 0/196 [00:00<?, ?it/s]"
          ],
          "name": "stderr"
        },
        {
          "output_type": "stream",
          "text": [
            "\n",
            "Test set: Average loss: 0.7194, Accuracy: 7482/10000 (74.8200%)\n",
            "\n"
          ],
          "name": "stdout"
        },
        {
          "output_type": "stream",
          "text": [
            "                                                                                      "
          ],
          "name": "stderr"
        },
        {
          "output_type": "stream",
          "text": [
            "Epoch: 9,LR: 0.011462287360000002.\n",
            "Train set: train Average loss: 0.8293, train_Accuracy: 36714/50000 (73.4280%)\n",
            "\n"
          ],
          "name": "stdout"
        },
        {
          "output_type": "stream",
          "text": [
            "  0%|          | 0/196 [00:00<?, ?it/s]"
          ],
          "name": "stderr"
        },
        {
          "output_type": "stream",
          "text": [
            "\n",
            "Test set: Average loss: 0.7671, Accuracy: 7469/10000 (74.6900%)\n",
            "\n"
          ],
          "name": "stdout"
        },
        {
          "output_type": "stream",
          "text": [
            "                                                                                       "
          ],
          "name": "stderr"
        },
        {
          "output_type": "stream",
          "text": [
            "Epoch: 10,LR: 0.011462287360000002.\n",
            "Train set: train Average loss: 0.5648, train_Accuracy: 37297/50000 (74.5940%)\n",
            "\n"
          ],
          "name": "stdout"
        },
        {
          "output_type": "stream",
          "text": [
            "  0%|          | 0/196 [00:00<?, ?it/s]"
          ],
          "name": "stderr"
        },
        {
          "output_type": "stream",
          "text": [
            "\n",
            "Test set: Average loss: 0.6868, Accuracy: 7651/10000 (76.5100%)\n",
            "\n"
          ],
          "name": "stdout"
        },
        {
          "output_type": "stream",
          "text": [
            "                                                                                        "
          ],
          "name": "stderr"
        },
        {
          "output_type": "stream",
          "text": [
            "Epoch: 11,LR: 0.010545304371200001.\n",
            "Train set: train Average loss: 0.4290, train_Accuracy: 37952/50000 (75.9040%)\n",
            "\n"
          ],
          "name": "stdout"
        },
        {
          "output_type": "stream",
          "text": [
            "  0%|          | 0/196 [00:00<?, ?it/s]"
          ],
          "name": "stderr"
        },
        {
          "output_type": "stream",
          "text": [
            "\n",
            "Test set: Average loss: 0.6667, Accuracy: 7720/10000 (77.2000%)\n",
            "\n"
          ],
          "name": "stdout"
        },
        {
          "output_type": "stream",
          "text": [
            "                                                                                       "
          ],
          "name": "stderr"
        },
        {
          "output_type": "stream",
          "text": [
            "Epoch: 12,LR: 0.010545304371200001.\n",
            "Train set: train Average loss: 0.8322, train_Accuracy: 38283/50000 (76.5660%)\n",
            "\n"
          ],
          "name": "stdout"
        },
        {
          "output_type": "stream",
          "text": [
            "  0%|          | 0/196 [00:00<?, ?it/s]"
          ],
          "name": "stderr"
        },
        {
          "output_type": "stream",
          "text": [
            "\n",
            "Test set: Average loss: 0.6734, Accuracy: 7701/10000 (77.0100%)\n",
            "\n"
          ],
          "name": "stdout"
        },
        {
          "output_type": "stream",
          "text": [
            "                                                                                       "
          ],
          "name": "stderr"
        },
        {
          "output_type": "stream",
          "text": [
            "Epoch: 13,LR: 0.009701680021504002.\n",
            "Train set: train Average loss: 0.6703, train_Accuracy: 38673/50000 (77.3460%)\n",
            "\n"
          ],
          "name": "stdout"
        },
        {
          "output_type": "stream",
          "text": [
            "  0%|          | 0/196 [00:00<?, ?it/s]"
          ],
          "name": "stderr"
        },
        {
          "output_type": "stream",
          "text": [
            "\n",
            "Test set: Average loss: 0.5943, Accuracy: 8001/10000 (80.0100%)\n",
            "\n"
          ],
          "name": "stdout"
        },
        {
          "output_type": "stream",
          "text": [
            "                                                                                       "
          ],
          "name": "stderr"
        },
        {
          "output_type": "stream",
          "text": [
            "Epoch: 14,LR: 0.009701680021504002.\n",
            "Train set: train Average loss: 0.5136, train_Accuracy: 39052/50000 (78.1040%)\n",
            "\n"
          ],
          "name": "stdout"
        },
        {
          "output_type": "stream",
          "text": [
            "  0%|          | 0/196 [00:00<?, ?it/s]"
          ],
          "name": "stderr"
        },
        {
          "output_type": "stream",
          "text": [
            "\n",
            "Test set: Average loss: 0.6172, Accuracy: 7958/10000 (79.5800%)\n",
            "\n"
          ],
          "name": "stdout"
        },
        {
          "output_type": "stream",
          "text": [
            "                                                                                      "
          ],
          "name": "stderr"
        },
        {
          "output_type": "stream",
          "text": [
            "Epoch: 15,LR: 0.008925545619783683.\n",
            "Train set: train Average loss: 0.4490, train_Accuracy: 39389/50000 (78.7780%)\n",
            "\n"
          ],
          "name": "stdout"
        },
        {
          "output_type": "stream",
          "text": [
            "  0%|          | 0/196 [00:00<?, ?it/s]"
          ],
          "name": "stderr"
        },
        {
          "output_type": "stream",
          "text": [
            "\n",
            "Test set: Average loss: 0.5982, Accuracy: 8035/10000 (80.3500%)\n",
            "\n"
          ],
          "name": "stdout"
        },
        {
          "output_type": "stream",
          "text": [
            "                                                                                       "
          ],
          "name": "stderr"
        },
        {
          "output_type": "stream",
          "text": [
            "Epoch: 16,LR: 0.008925545619783683.\n",
            "Train set: train Average loss: 0.5662, train_Accuracy: 39585/50000 (79.1700%)\n",
            "\n"
          ],
          "name": "stdout"
        },
        {
          "output_type": "stream",
          "text": [
            "  0%|          | 0/196 [00:00<?, ?it/s]"
          ],
          "name": "stderr"
        },
        {
          "output_type": "stream",
          "text": [
            "\n",
            "Test set: Average loss: 0.5540, Accuracy: 8092/10000 (80.9200%)\n",
            "\n"
          ],
          "name": "stdout"
        },
        {
          "output_type": "stream",
          "text": [
            "                                                                                       "
          ],
          "name": "stderr"
        },
        {
          "output_type": "stream",
          "text": [
            "Epoch: 17,LR: 0.008211501970200989.\n",
            "Train set: train Average loss: 0.4799, train_Accuracy: 39877/50000 (79.7540%)\n",
            "\n"
          ],
          "name": "stdout"
        },
        {
          "output_type": "stream",
          "text": [
            "  0%|          | 0/196 [00:00<?, ?it/s]"
          ],
          "name": "stderr"
        },
        {
          "output_type": "stream",
          "text": [
            "\n",
            "Test set: Average loss: 0.5934, Accuracy: 8056/10000 (80.5600%)\n",
            "\n"
          ],
          "name": "stdout"
        },
        {
          "output_type": "stream",
          "text": [
            "                                                                                       "
          ],
          "name": "stderr"
        },
        {
          "output_type": "stream",
          "text": [
            "Epoch: 18,LR: 0.008211501970200989.\n",
            "Train set: train Average loss: 0.3895, train_Accuracy: 40031/50000 (80.0620%)\n",
            "\n"
          ],
          "name": "stdout"
        },
        {
          "output_type": "stream",
          "text": [
            "  0%|          | 0/196 [00:00<?, ?it/s]"
          ],
          "name": "stderr"
        },
        {
          "output_type": "stream",
          "text": [
            "\n",
            "Test set: Average loss: 0.5887, Accuracy: 8114/10000 (81.1400%)\n",
            "\n"
          ],
          "name": "stdout"
        },
        {
          "output_type": "stream",
          "text": [
            "                                                                                       "
          ],
          "name": "stderr"
        },
        {
          "output_type": "stream",
          "text": [
            "Epoch: 19,LR: 0.007554581812584909.\n",
            "Train set: train Average loss: 0.5800, train_Accuracy: 40287/50000 (80.5740%)\n",
            "\n"
          ],
          "name": "stdout"
        },
        {
          "output_type": "stream",
          "text": [
            "  0%|          | 0/196 [00:00<?, ?it/s]"
          ],
          "name": "stderr"
        },
        {
          "output_type": "stream",
          "text": [
            "\n",
            "Test set: Average loss: 0.5793, Accuracy: 8077/10000 (80.7700%)\n",
            "\n"
          ],
          "name": "stdout"
        },
        {
          "output_type": "stream",
          "text": [
            "                                                                                       "
          ],
          "name": "stderr"
        },
        {
          "output_type": "stream",
          "text": [
            "Epoch: 20,LR: 0.007554581812584909.\n",
            "Train set: train Average loss: 0.4615, train_Accuracy: 40405/50000 (80.8100%)\n",
            "\n"
          ],
          "name": "stdout"
        },
        {
          "output_type": "stream",
          "text": [
            "  0%|          | 0/196 [00:00<?, ?it/s]"
          ],
          "name": "stderr"
        },
        {
          "output_type": "stream",
          "text": [
            "\n",
            "Test set: Average loss: 0.5403, Accuracy: 8273/10000 (82.7300%)\n",
            "\n"
          ],
          "name": "stdout"
        },
        {
          "output_type": "stream",
          "text": [
            "                                                                                       "
          ],
          "name": "stderr"
        },
        {
          "output_type": "stream",
          "text": [
            "Epoch: 21,LR: 0.006950215267578117.\n",
            "Train set: train Average loss: 0.3747, train_Accuracy: 40620/50000 (81.2400%)\n",
            "\n"
          ],
          "name": "stdout"
        },
        {
          "output_type": "stream",
          "text": [
            "  0%|          | 0/196 [00:00<?, ?it/s]"
          ],
          "name": "stderr"
        },
        {
          "output_type": "stream",
          "text": [
            "\n",
            "Test set: Average loss: 0.5356, Accuracy: 8257/10000 (82.5700%)\n",
            "\n"
          ],
          "name": "stdout"
        },
        {
          "output_type": "stream",
          "text": [
            "                                                                                       "
          ],
          "name": "stderr"
        },
        {
          "output_type": "stream",
          "text": [
            "Epoch: 22,LR: 0.006950215267578117.\n",
            "Train set: train Average loss: 0.5903, train_Accuracy: 40773/50000 (81.5460%)\n",
            "\n"
          ],
          "name": "stdout"
        },
        {
          "output_type": "stream",
          "text": [
            "  0%|          | 0/196 [00:00<?, ?it/s]"
          ],
          "name": "stderr"
        },
        {
          "output_type": "stream",
          "text": [
            "\n",
            "Test set: Average loss: 0.5674, Accuracy: 8166/10000 (81.6600%)\n",
            "\n"
          ],
          "name": "stdout"
        },
        {
          "output_type": "stream",
          "text": [
            "                                                                                       "
          ],
          "name": "stderr"
        },
        {
          "output_type": "stream",
          "text": [
            "Epoch: 23,LR: 0.006394198046171868.\n",
            "Train set: train Average loss: 0.6750, train_Accuracy: 41013/50000 (82.0260%)\n",
            "\n"
          ],
          "name": "stdout"
        },
        {
          "output_type": "stream",
          "text": [
            "  0%|          | 0/196 [00:00<?, ?it/s]"
          ],
          "name": "stderr"
        },
        {
          "output_type": "stream",
          "text": [
            "\n",
            "Test set: Average loss: 0.5301, Accuracy: 8261/10000 (82.6100%)\n",
            "\n"
          ],
          "name": "stdout"
        },
        {
          "output_type": "stream",
          "text": [
            "                                                                                       "
          ],
          "name": "stderr"
        },
        {
          "output_type": "stream",
          "text": [
            "Epoch: 24,LR: 0.006394198046171868.\n",
            "Train set: train Average loss: 0.5726, train_Accuracy: 41084/50000 (82.1680%)\n",
            "\n"
          ],
          "name": "stdout"
        },
        {
          "output_type": "stream",
          "text": [
            "  0%|          | 0/196 [00:00<?, ?it/s]"
          ],
          "name": "stderr"
        },
        {
          "output_type": "stream",
          "text": [
            "\n",
            "Test set: Average loss: 0.5489, Accuracy: 8212/10000 (82.1200%)\n",
            "\n"
          ],
          "name": "stdout"
        },
        {
          "output_type": "stream",
          "text": [
            "                                                                                        "
          ],
          "name": "stderr"
        },
        {
          "output_type": "stream",
          "text": [
            "Epoch: 25,LR: 0.005882662202478119.\n",
            "Train set: train Average loss: 0.4675, train_Accuracy: 41266/50000 (82.5320%)\n",
            "\n"
          ],
          "name": "stdout"
        },
        {
          "output_type": "stream",
          "text": [
            "\r"
          ],
          "name": "stderr"
        },
        {
          "output_type": "stream",
          "text": [
            "\n",
            "Test set: Average loss: 0.5264, Accuracy: 8309/10000 (83.0900%)\n",
            "\n"
          ],
          "name": "stdout"
        }
      ]
    },
    {
      "cell_type": "code",
      "metadata": {
        "id": "-m8cVYkb1-uU",
        "colab_type": "code",
        "colab": {
          "base_uri": "https://localhost:8080/",
          "height": 295
        },
        "outputId": "a0f9a686-d988-40fd-be1d-aba2ceee5bad"
      },
      "source": [
        "import matplotlib.pyplot as plt\n",
        "\n",
        "x = [i for i in range(1,26)]\n",
        "y = loss_test\n",
        "Modelgraph = ['GBN']\n",
        "\n",
        "plt.title(\"Validation loss graph\")\n",
        "plt.xlabel(\"Epochs\")\n",
        "plt.ylabel(\"Validation loss\")\n",
        "#plt.figure(figsize=(10,10))\n",
        "\n",
        "for i in range(len(y)):\n",
        "    plt.plot(x,y[i],label = 'id %s'%Modelgraph[i])\n",
        "\n",
        "plt.legend()\n",
        "#plt.show()\n",
        "plt.savefig('Validation loss graph')"
      ],
      "execution_count": 17,
      "outputs": [
        {
          "output_type": "display_data",
          "data": {
            "image/png": "[encoded data removed]",
            "text/plain": [
              "<Figure size 432x288 with 1 Axes>"
            ]
          },
          "metadata": {
            "tags": [],
            "needs_background": "light"
          }
        }
      ]
    },
    {
      "cell_type": "code",
      "metadata": {
        "id": "Ze1caWQ55P4K",
        "colab_type": "code",
        "colab": {
          "base_uri": "https://localhost:8080/",
          "height": 312
        },
        "outputId": "ed644c2c-f85a-4ffd-bf80-7312563e6593"
      },
      "source": [
        "x = [i for i in range(1,26)]\n",
        "y = accu\n",
        "Modelgraph = ['GBN']\n",
        "\n",
        "\n",
        "plt.title(\"Validation Accuracy graph\")\n",
        "plt.xlabel(\"Epochs\")\n",
        "plt.ylabel(\"Validation Accuracy\")\n",
        "\n",
        "\n",
        "for i in range(len(y)):\n",
        "    plt.plot(x,y[i],label = 'id %s'%Modelgraph[i])\n",
        "\n",
        "plt.legend()\n",
        "plt.show()\n",
        "plt.savefig('Validation Accuracy graph_')"
      ],
      "execution_count": 18,
      "outputs": [
        {
          "output_type": "display_data",
          "data": {
            "image/png": "[encoded data removed]",
            "text/plain": [
              "<Figure size 432x288 with 1 Axes>"
            ]
          },
          "metadata": {
            "tags": [],
            "needs_background": "light"
          }
        },
        {
          "output_type": "display_data",
          "data": {
            "text/plain": [
              "<Figure size 432x288 with 0 Axes>"
            ]
          },
          "metadata": {
            "tags": []
          }
        }
      ]
    }
  ]
}