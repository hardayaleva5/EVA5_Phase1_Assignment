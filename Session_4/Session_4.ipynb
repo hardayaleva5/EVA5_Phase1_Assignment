{
  "nbformat": 4,
  "nbformat_minor": 0,
  "metadata": {
    "colab": {
      "name": "Session 4.ipynb",
      "provenance": [],
      "collapsed_sections": []
    },
    "kernelspec": {
      "name": "python3",
      "display_name": "Python 3"
    },
    "accelerator": "GPU"
  },
  "cells": [
    {
      "cell_type": "code",
      "metadata": {
        "id": "0m2JWFliFfKT",
        "colab_type": "code",
        "colab": {}
      },
      "source": [
        "from __future__ import print_function\n",
        "import torch\n",
        "import torch.nn as nn\n",
        "import torch.nn.functional as F\n",
        "import torch.optim as optim\n",
        "from torchvision import datasets, transforms"
      ],
      "execution_count": 1,
      "outputs": []
    },
    {
      "cell_type": "code",
      "metadata": {
        "id": "h_Cx9q2QFgM7",
        "colab_type": "code",
        "colab": {}
      },
      "source": [
        "class Net(nn.Module):\n",
        "    def __init__(self):\n",
        "        super(Net, self).__init__()\n",
        "        #Input = 28X28X1 - Output = 26X26X16 - RF = 3\n",
        "        self.conv1 = nn.Conv2d(1, 16, 3, bias=False) \n",
        "        self.bn1 = nn.BatchNorm2d(16, affine=True)\n",
        "        self.dropout1 = nn.Dropout2d(0.1)\n",
        "         #Input = 26X26X16 - Output = 24X24X16 - RF = 5\n",
        "        self.conv2 = nn.Conv2d(16, 16, 3, bias=False)\n",
        "        self.bn2 = nn.BatchNorm2d(16, affine=True)\n",
        "        self.dropout2 = nn.Dropout2d(0.1)\n",
        "\n",
        "        #Input = 24X24X16 - Output = 22X22X16 - RF = 7\n",
        "        self.conv3 = nn.Conv2d(16, 16, 3, bias=True) \n",
        "        self.bn3 = nn.BatchNorm2d(16, affine=True)\n",
        "        self.dropout3 = nn.Dropout2d(0.1)\n",
        "        #Input = 22X22X16 - Output = 11X11X16 - RF = 8\n",
        "        self.pool1 = nn.MaxPool2d(2, 2) \n",
        "        \n",
        "        #Input = 11X11X16 - Output = 9X9X16- RF = 14\n",
        "        self.conv4 = nn.Conv2d(16, 16, 3, bias=False) \n",
        "        self.bn4 = nn.BatchNorm2d(16, affine=True)\n",
        "        self.dropout4 = nn.Dropout2d(0.1)\n",
        "\n",
        "        #Input = 9X9X16 - Output = 7X7X16 - RF = 16\n",
        "        self.conv5 = nn.Conv2d(16, 16, 3, bias=False) \n",
        "        self.bn5 = nn.BatchNorm2d(16, affine=True)\n",
        "        self.dropout5 = nn.Dropout2d(0.1)\n",
        "\n",
        "        #Input = 7X7X16 - Output = 7X7X16 - RF = 18\n",
        "        self.conv6 = nn.Conv2d(16, 16, 3, bias=False, padding=1) \n",
        "        self.bn6 = nn.BatchNorm2d(16, affine=True)\n",
        "        self.dropout6 = nn.Dropout2d(0.1)\n",
        "        \n",
        "        self.avg_pool = nn.AvgPool2d(7) #Output = 1X1X16\n",
        "        self.pointwise3 = nn.Conv2d(16, 10, 1, bias=False)\n",
        "        \n",
        "    def forward(self, x):\n",
        "        x = self.dropout1(self.bn1(F.relu(self.conv1(x))))\n",
        "        x = self.dropout2(self.bn2(F.relu(self.conv2(x))))\n",
        "        x = self.dropout3(self.bn3(F.relu(self.conv3(x))))\n",
        "        x = self.pool1(x)\n",
        "        x = self.dropout4(self.bn4(F.relu(self.conv4(x))))\n",
        "        x = self.dropout5(self.bn5(F.relu(self.conv5(x))))\n",
        "        x = self.dropout6(self.bn6(F.relu(self.conv6(x))))\n",
        "        # x = self.conv7(x)\n",
        "        #print(x.shape)\n",
        "        x = self.avg_pool(x)\n",
        "        #print(x.shape)\n",
        "        #x = x.view(-1, 32)\n",
        "        x = self.pointwise3(x)\n",
        "        #print(x.shape)\n",
        "        x = x.view(-1, 10)\n",
        "        return F.log_softmax(x, dim=1)"
      ],
      "execution_count": 2,
      "outputs": []
    },
    {
      "cell_type": "code",
      "metadata": {
        "colab_type": "code",
        "id": "xdydjYTZFyi3",
        "colab": {
          "base_uri": "https://localhost:8080/",
          "height": 595
        },
        "outputId": "bacf485e-fec3-4a38-f5a7-a572150c5015"
      },
      "source": [
        "#!pip install torchsummary\n",
        "from torchsummary import summary\n",
        "use_cuda = torch.cuda.is_available()\n",
        "device = torch.device(\"cuda\" if use_cuda else \"cpu\")\n",
        "model = Net().to(device)\n",
        "summary(model, input_size=(1, 28, 28))"
      ],
      "execution_count": 3,
      "outputs": [
        {
          "output_type": "stream",
          "text": [
            "----------------------------------------------------------------\n",
            "        Layer (type)               Output Shape         Param #\n",
            "================================================================\n",
            "            Conv2d-1           [-1, 16, 26, 26]             144\n",
            "       BatchNorm2d-2           [-1, 16, 26, 26]              32\n",
            "         Dropout2d-3           [-1, 16, 26, 26]               0\n",
            "            Conv2d-4           [-1, 16, 24, 24]           2,304\n",
            "       BatchNorm2d-5           [-1, 16, 24, 24]              32\n",
            "         Dropout2d-6           [-1, 16, 24, 24]               0\n",
            "            Conv2d-7           [-1, 16, 22, 22]           2,320\n",
            "       BatchNorm2d-8           [-1, 16, 22, 22]              32\n",
            "         Dropout2d-9           [-1, 16, 22, 22]               0\n",
            "        MaxPool2d-10           [-1, 16, 11, 11]               0\n",
            "           Conv2d-11             [-1, 16, 9, 9]           2,304\n",
            "      BatchNorm2d-12             [-1, 16, 9, 9]              32\n",
            "        Dropout2d-13             [-1, 16, 9, 9]               0\n",
            "           Conv2d-14             [-1, 16, 7, 7]           2,304\n",
            "      BatchNorm2d-15             [-1, 16, 7, 7]              32\n",
            "        Dropout2d-16             [-1, 16, 7, 7]               0\n",
            "           Conv2d-17             [-1, 16, 7, 7]           2,304\n",
            "      BatchNorm2d-18             [-1, 16, 7, 7]              32\n",
            "        Dropout2d-19             [-1, 16, 7, 7]               0\n",
            "        AvgPool2d-20             [-1, 16, 1, 1]               0\n",
            "           Conv2d-21             [-1, 10, 1, 1]             160\n",
            "================================================================\n",
            "Total params: 12,032\n",
            "Trainable params: 12,032\n",
            "Non-trainable params: 0\n",
            "----------------------------------------------------------------\n",
            "Input size (MB): 0.00\n",
            "Forward/backward pass size (MB): 0.72\n",
            "Params size (MB): 0.05\n",
            "Estimated Total Size (MB): 0.77\n",
            "----------------------------------------------------------------\n"
          ],
          "name": "stdout"
        }
      ]
    },
    {
      "cell_type": "code",
      "metadata": {
        "id": "DqTWLaM5GHgH",
        "colab_type": "code",
        "colab": {}
      },
      "source": [
        "torch.manual_seed(1)\n",
        "batch_size = 32\n",
        "\n",
        "kwargs = {'num_workers': 1, 'pin_memory': True} if use_cuda else {}\n",
        "train_loader = torch.utils.data.DataLoader(\n",
        "    datasets.MNIST('../data', train=True, download=True,\n",
        "                    transform=transforms.Compose([\n",
        "                        transforms.ToTensor(),\n",
        "                        transforms.Normalize((0.1307,), (0.3081,))\n",
        "                    ])),\n",
        "    batch_size=batch_size, shuffle=True, **kwargs)\n",
        "test_loader = torch.utils.data.DataLoader(\n",
        "    datasets.MNIST('../data', train=False, transform=transforms.Compose([\n",
        "                        transforms.ToTensor(),\n",
        "                        transforms.Normalize((0.1307,), (0.3081,))\n",
        "                    ])),\n",
        "    batch_size=batch_size, shuffle=True, **kwargs)\n"
      ],
      "execution_count": 4,
      "outputs": []
    },
    {
      "cell_type": "code",
      "metadata": {
        "id": "8fDefDhaFlwH",
        "colab_type": "code",
        "colab": {}
      },
      "source": [
        "from tqdm import tqdm\n",
        "def train(model, device, train_loader, optimizer, epoch):\n",
        "    model.train()\n",
        "    pbar = tqdm(train_loader)\n",
        "    for batch_idx, (data, target) in enumerate(pbar):\n",
        "        data, target = data.to(device), target.to(device)\n",
        "        optimizer.zero_grad()\n",
        "        output = model(data)\n",
        "        loss = F.nll_loss(output, target)\n",
        "        loss.backward()\n",
        "        optimizer.step()\n",
        "        pbar.set_description(desc= f'loss={loss.item()} batch_id={batch_idx}')\n",
        "\n",
        "\n",
        "def test(model, device, test_loader):\n",
        "    model.eval()\n",
        "    test_loss = 0\n",
        "    correct = 0\n",
        "    with torch.no_grad():\n",
        "        for data, target in test_loader:\n",
        "            data, target = data.to(device), target.to(device)\n",
        "            output = model(data)\n",
        "             # sum up batch loss\n",
        "            test_loss += F.nll_loss(output, target, reduction='sum').item() \n",
        "            # get the index of the max log-probability\n",
        "            pred = output.argmax(dim=1, keepdim=True)  \n",
        "            correct += pred.eq(target.view_as(pred)).sum().item()\n",
        "\n",
        "    test_loss /= len(test_loader.dataset)\n",
        "\n",
        "    print('\\nTest set: Average loss: {:.4f}, Accuracy: {}/{} ({:.2f}%)\\n'.format(\n",
        "        test_loss, correct, len(test_loader.dataset),\n",
        "        100. * correct / len(test_loader.dataset)))"
      ],
      "execution_count": 5,
      "outputs": []
    },
    {
      "cell_type": "code",
      "metadata": {
        "id": "MMWbLWO6FuHb",
        "colab_type": "code",
        "colab": {
          "base_uri": "https://localhost:8080/",
          "height": 1000
        },
        "outputId": "922d31ea-03c5-4083-8a14-ce96d2b3ffbc"
      },
      "source": [
        "\n",
        "model = Net().to(device)\n",
        "optimizer = optim.SGD(model.parameters(), lr=0.01, momentum=0.9)\n",
        "\n",
        "for epoch in range(0, 19):\n",
        "    train(model, device, train_loader, optimizer, epoch)\n",
        "    test(model, device, test_loader)"
      ],
      "execution_count": 6,
      "outputs": [
        {
          "output_type": "stream",
          "text": [
            "loss=0.16964371502399445 batch_id=1874: 100%|██████████| 1875/1875 [00:23<00:00, 81.09it/s]\n",
            "  0%|          | 0/1875 [00:00<?, ?it/s]"
          ],
          "name": "stderr"
        },
        {
          "output_type": "stream",
          "text": [
            "\n",
            "Test set: Average loss: 0.0486, Accuracy: 9858/10000 (98.58%)\n",
            "\n"
          ],
          "name": "stdout"
        },
        {
          "output_type": "stream",
          "text": [
            "loss=0.1281135380268097 batch_id=1874: 100%|██████████| 1875/1875 [00:22<00:00, 82.75it/s]\n",
            "  0%|          | 0/1875 [00:00<?, ?it/s]"
          ],
          "name": "stderr"
        },
        {
          "output_type": "stream",
          "text": [
            "\n",
            "Test set: Average loss: 0.0361, Accuracy: 9877/10000 (98.77%)\n",
            "\n"
          ],
          "name": "stdout"
        },
        {
          "output_type": "stream",
          "text": [
            "loss=0.03792593628168106 batch_id=1874: 100%|██████████| 1875/1875 [00:22<00:00, 82.80it/s]\n",
            "  0%|          | 0/1875 [00:00<?, ?it/s]"
          ],
          "name": "stderr"
        },
        {
          "output_type": "stream",
          "text": [
            "\n",
            "Test set: Average loss: 0.0305, Accuracy: 9907/10000 (99.07%)\n",
            "\n"
          ],
          "name": "stdout"
        },
        {
          "output_type": "stream",
          "text": [
            "loss=0.3795923888683319 batch_id=1874: 100%|██████████| 1875/1875 [00:22<00:00, 83.18it/s]\n",
            "  0%|          | 0/1875 [00:00<?, ?it/s]"
          ],
          "name": "stderr"
        },
        {
          "output_type": "stream",
          "text": [
            "\n",
            "Test set: Average loss: 0.0287, Accuracy: 9914/10000 (99.14%)\n",
            "\n"
          ],
          "name": "stdout"
        },
        {
          "output_type": "stream",
          "text": [
            "loss=0.07093643397092819 batch_id=1874: 100%|██████████| 1875/1875 [00:22<00:00, 83.80it/s]\n",
            "  0%|          | 0/1875 [00:00<?, ?it/s]"
          ],
          "name": "stderr"
        },
        {
          "output_type": "stream",
          "text": [
            "\n",
            "Test set: Average loss: 0.0289, Accuracy: 9900/10000 (99.00%)\n",
            "\n"
          ],
          "name": "stdout"
        },
        {
          "output_type": "stream",
          "text": [
            "loss=0.035105060786008835 batch_id=1874: 100%|██████████| 1875/1875 [00:21<00:00, 85.53it/s]\n",
            "  0%|          | 0/1875 [00:00<?, ?it/s]"
          ],
          "name": "stderr"
        },
        {
          "output_type": "stream",
          "text": [
            "\n",
            "Test set: Average loss: 0.0243, Accuracy: 9921/10000 (99.21%)\n",
            "\n"
          ],
          "name": "stdout"
        },
        {
          "output_type": "stream",
          "text": [
            "loss=0.04231981560587883 batch_id=1874: 100%|██████████| 1875/1875 [00:21<00:00, 85.94it/s]\n",
            "  0%|          | 0/1875 [00:00<?, ?it/s]"
          ],
          "name": "stderr"
        },
        {
          "output_type": "stream",
          "text": [
            "\n",
            "Test set: Average loss: 0.0252, Accuracy: 9914/10000 (99.14%)\n",
            "\n"
          ],
          "name": "stdout"
        },
        {
          "output_type": "stream",
          "text": [
            "loss=0.010743962600827217 batch_id=1874: 100%|██████████| 1875/1875 [00:21<00:00, 85.61it/s]\n",
            "  0%|          | 0/1875 [00:00<?, ?it/s]"
          ],
          "name": "stderr"
        },
        {
          "output_type": "stream",
          "text": [
            "\n",
            "Test set: Average loss: 0.0236, Accuracy: 9927/10000 (99.27%)\n",
            "\n"
          ],
          "name": "stdout"
        },
        {
          "output_type": "stream",
          "text": [
            "loss=0.01939842477440834 batch_id=1874: 100%|██████████| 1875/1875 [00:21<00:00, 85.24it/s]\n",
            "  0%|          | 0/1875 [00:00<?, ?it/s]"
          ],
          "name": "stderr"
        },
        {
          "output_type": "stream",
          "text": [
            "\n",
            "Test set: Average loss: 0.0247, Accuracy: 9919/10000 (99.19%)\n",
            "\n"
          ],
          "name": "stdout"
        },
        {
          "output_type": "stream",
          "text": [
            "loss=0.08582818508148193 batch_id=1874: 100%|██████████| 1875/1875 [00:21<00:00, 85.30it/s]\n",
            "  0%|          | 0/1875 [00:00<?, ?it/s]"
          ],
          "name": "stderr"
        },
        {
          "output_type": "stream",
          "text": [
            "\n",
            "Test set: Average loss: 0.0235, Accuracy: 9930/10000 (99.30%)\n",
            "\n"
          ],
          "name": "stdout"
        },
        {
          "output_type": "stream",
          "text": [
            "loss=0.014731760136783123 batch_id=1874: 100%|██████████| 1875/1875 [00:22<00:00, 84.17it/s]\n",
            "  0%|          | 0/1875 [00:00<?, ?it/s]"
          ],
          "name": "stderr"
        },
        {
          "output_type": "stream",
          "text": [
            "\n",
            "Test set: Average loss: 0.0207, Accuracy: 9931/10000 (99.31%)\n",
            "\n"
          ],
          "name": "stdout"
        },
        {
          "output_type": "stream",
          "text": [
            "loss=0.032852187752723694 batch_id=1874: 100%|██████████| 1875/1875 [00:21<00:00, 85.82it/s]\n",
            "  0%|          | 0/1875 [00:00<?, ?it/s]"
          ],
          "name": "stderr"
        },
        {
          "output_type": "stream",
          "text": [
            "\n",
            "Test set: Average loss: 0.0219, Accuracy: 9931/10000 (99.31%)\n",
            "\n"
          ],
          "name": "stdout"
        },
        {
          "output_type": "stream",
          "text": [
            "loss=0.0380987748503685 batch_id=1874: 100%|██████████| 1875/1875 [00:21<00:00, 85.34it/s]\n",
            "  0%|          | 0/1875 [00:00<?, ?it/s]"
          ],
          "name": "stderr"
        },
        {
          "output_type": "stream",
          "text": [
            "\n",
            "Test set: Average loss: 0.0214, Accuracy: 9929/10000 (99.29%)\n",
            "\n"
          ],
          "name": "stdout"
        },
        {
          "output_type": "stream",
          "text": [
            "loss=0.01808418333530426 batch_id=1874: 100%|██████████| 1875/1875 [00:22<00:00, 85.09it/s]\n",
            "  0%|          | 0/1875 [00:00<?, ?it/s]"
          ],
          "name": "stderr"
        },
        {
          "output_type": "stream",
          "text": [
            "\n",
            "Test set: Average loss: 0.0218, Accuracy: 9934/10000 (99.34%)\n",
            "\n"
          ],
          "name": "stdout"
        },
        {
          "output_type": "stream",
          "text": [
            "loss=0.12982434034347534 batch_id=1874: 100%|██████████| 1875/1875 [00:22<00:00, 84.58it/s]\n",
            "  0%|          | 0/1875 [00:00<?, ?it/s]"
          ],
          "name": "stderr"
        },
        {
          "output_type": "stream",
          "text": [
            "\n",
            "Test set: Average loss: 0.0197, Accuracy: 9931/10000 (99.31%)\n",
            "\n"
          ],
          "name": "stdout"
        },
        {
          "output_type": "stream",
          "text": [
            "loss=0.024539314210414886 batch_id=1874: 100%|██████████| 1875/1875 [00:21<00:00, 86.47it/s]\n",
            "  0%|          | 0/1875 [00:00<?, ?it/s]"
          ],
          "name": "stderr"
        },
        {
          "output_type": "stream",
          "text": [
            "\n",
            "Test set: Average loss: 0.0201, Accuracy: 9937/10000 (99.37%)\n",
            "\n"
          ],
          "name": "stdout"
        },
        {
          "output_type": "stream",
          "text": [
            "loss=0.012950154952704906 batch_id=1874: 100%|██████████| 1875/1875 [00:22<00:00, 84.96it/s]\n",
            "  0%|          | 0/1875 [00:00<?, ?it/s]"
          ],
          "name": "stderr"
        },
        {
          "output_type": "stream",
          "text": [
            "\n",
            "Test set: Average loss: 0.0186, Accuracy: 9939/10000 (99.39%)\n",
            "\n"
          ],
          "name": "stdout"
        },
        {
          "output_type": "stream",
          "text": [
            "loss=0.08731609582901001 batch_id=1874: 100%|██████████| 1875/1875 [00:21<00:00, 85.73it/s]\n",
            "  0%|          | 0/1875 [00:00<?, ?it/s]"
          ],
          "name": "stderr"
        },
        {
          "output_type": "stream",
          "text": [
            "\n",
            "Test set: Average loss: 0.0181, Accuracy: 9943/10000 (99.43%)\n",
            "\n"
          ],
          "name": "stdout"
        },
        {
          "output_type": "stream",
          "text": [
            "loss=0.05833295360207558 batch_id=1874: 100%|██████████| 1875/1875 [00:21<00:00, 85.43it/s]\n"
          ],
          "name": "stderr"
        },
        {
          "output_type": "stream",
          "text": [
            "\n",
            "Test set: Average loss: 0.0205, Accuracy: 9941/10000 (99.41%)\n",
            "\n"
          ],
          "name": "stdout"
        }
      ]
    }
  ]
}